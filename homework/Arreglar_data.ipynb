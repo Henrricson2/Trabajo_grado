{
 "cells": [
  {
   "cell_type": "markdown",
   "metadata": {},
   "source": [
    "# Librerias"
   ]
  },
  {
   "cell_type": "code",
   "execution_count": 1,
   "metadata": {},
   "outputs": [],
   "source": [
    "import pandas as pd\n",
    "import geopandas as gpd\n",
    "from shapely.geometry import Point\n",
    "import matplotlib.pyplot as plt\n",
    "import seaborn as sns \n",
    "import os\n",
    "import numpy as np\n",
    "pd.set_option(\"display.max_columns\", None)    "
   ]
  },
  {
   "cell_type": "code",
   "execution_count": null,
   "metadata": {},
   "outputs": [],
   "source": [
    "df_original = pd.read_excel('../files/input/datos_exportados.xlsx')\n",
    "df_original"
   ]
  },
  {
   "cell_type": "code",
   "execution_count": null,
   "metadata": {},
   "outputs": [],
   "source": [
    "df_original.drop(columns=\"TENSION[kV]\",inplace=True)\n",
    "df_original"
   ]
  },
  {
   "cell_type": "code",
   "execution_count": null,
   "metadata": {},
   "outputs": [],
   "source": [
    "\n",
    "df_original.info()"
   ]
  },
  {
   "cell_type": "code",
   "execution_count": null,
   "metadata": {},
   "outputs": [],
   "source": [
    "# Renombrar las columnas\n",
    "df_original = df_original.rename(columns={'AÑO': 'year', 'MES': 'month', 'DIA': 'day'})\n",
    "\n",
    "# Convertir a formato de fecha\n",
    "df_original['FECHA'] = pd.to_datetime(df_original[['year', 'month', 'day']])"
   ]
  },
  {
   "cell_type": "code",
   "execution_count": null,
   "metadata": {},
   "outputs": [],
   "source": [
    "df_original.drop(columns=[\"year\",\"month\",\"day\"], inplace=True)"
   ]
  },
  {
   "cell_type": "code",
   "execution_count": null,
   "metadata": {},
   "outputs": [],
   "source": [
    "# Suponiendo que 'df_original' ya está cargado\n",
    "df_melted = df_original.melt(id_vars=[\"FECHA\", \"BARRA\"], var_name=\"HORA\", value_name=\"VALOR\")\n",
    "\n",
    "# Convertimos la fecha y la hora en un datetime\n",
    "df_melted[\"FECHA_HORA\"] = pd.to_datetime(df_melted[\"FECHA\"]) + pd.to_timedelta(df_melted[\"HORA\"].astype(int), unit=\"h\")\n",
    "\n",
    "# Ordenamos y reorganizamos columnas\n",
    "df_melted = df_melted[[\"FECHA_HORA\", \"BARRA\", \"VALOR\"]]\n",
    "\n",
    "# Mostramos el resultado\n",
    "print(df_melted.head())"
   ]
  },
  {
   "cell_type": "code",
   "execution_count": null,
   "metadata": {},
   "outputs": [],
   "source": [
    "df_pivot = df_melted.pivot(index=\"FECHA_HORA\", columns=\"BARRA\", values=\"VALOR\")"
   ]
  },
  {
   "cell_type": "code",
   "execution_count": null,
   "metadata": {},
   "outputs": [],
   "source": [
    "df_pivot.columns.name = None "
   ]
  },
  {
   "cell_type": "code",
   "execution_count": null,
   "metadata": {},
   "outputs": [],
   "source": [
    "df_pivot.to_csv(\"../files/input/data.csv\", index=True)"
   ]
  }
 ],
 "metadata": {
  "kernelspec": {
   "display_name": ".venv",
   "language": "python",
   "name": "python3"
  },
  "language_info": {
   "codemirror_mode": {
    "name": "ipython",
    "version": 3
   },
   "file_extension": ".py",
   "mimetype": "text/x-python",
   "name": "python",
   "nbconvert_exporter": "python",
   "pygments_lexer": "ipython3",
   "version": "3.10.4"
  }
 },
 "nbformat": 4,
 "nbformat_minor": 2
}
